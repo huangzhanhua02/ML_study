{
  "nbformat": 4,
  "nbformat_minor": 0,
  "metadata": {
    "colab": {
      "name": "myHW1.ipynb",
      "provenance": [],
      "collapsed_sections": [],
      "mount_file_id": "1Dcw0Quw701TQXCDVM1ENKhyr7qyCDMky",
      "authorship_tag": "ABX9TyPggm2cG1RP18INAsPIIvVI",
      "include_colab_link": true
    },
    "kernelspec": {
      "name": "python3",
      "display_name": "Python 3"
    },
    "language_info": {
      "name": "python"
    }
  },
  "cells": [
    {
      "cell_type": "markdown",
      "metadata": {
        "id": "view-in-github",
        "colab_type": "text"
      },
      "source": [
        "<a href=\"https://colab.research.google.com/github/huangzhanhua02/ML_study/blob/main/myHW1.ipynb\" target=\"_parent\"><img src=\"https://colab.research.google.com/assets/colab-badge.svg\" alt=\"Open In Colab\"/></a>"
      ]
    },
    {
      "cell_type": "markdown",
      "source": [
        "参考代码：\n",
        "http://t.csdn.cn/xL6kf\n",
        "感谢大佬\n",
        "在源代码上写上自己的注释"
      ],
      "metadata": {
        "id": "qPmG4DAZV2Y9"
      }
    },
    {
      "cell_type": "markdown",
      "source": [
        "# **（1）数据的处理**"
      ],
      "metadata": {
        "id": "2eR84nofWDkk"
      }
    },
    {
      "cell_type": "code",
      "metadata": {
        "colab": {
          "base_uri": "https://localhost:8080/"
        },
        "id": "tMj55YDKG6ch",
        "outputId": "465571db-49bb-4314-c82e-ca6d47ccdeea"
      },
      "source": [
        "tr_path = 'covid.train.csv'  # path to training data\n",
        "tt_path = 'covid.test.csv'   # path to testing data\n",
        "\n",
        "!gdown --id '19CCyCgJrUxtvgZF53vnctJiOJ23T5mqF' --output covid.train.csv\n",
        "!gdown --id '1CE240jLm2npU-tdz81-oVKEF3T2yfT1O' --output covid.test.csv"
      ],
      "execution_count": 14,
      "outputs": [
        {
          "output_type": "stream",
          "name": "stdout",
          "text": [
            "Downloading...\n",
            "From: https://drive.google.com/uc?id=19CCyCgJrUxtvgZF53vnctJiOJ23T5mqF\n",
            "To: /content/covid.train.csv\n",
            "100% 2.00M/2.00M [00:00<00:00, 111MB/s]\n",
            "Downloading...\n",
            "From: https://drive.google.com/uc?id=1CE240jLm2npU-tdz81-oVKEF3T2yfT1O\n",
            "To: /content/covid.test.csv\n",
            "100% 651k/651k [00:00<00:00, 83.3MB/s]\n"
          ]
        }
      ]
    },
    {
      "cell_type": "code",
      "execution_count": 6,
      "metadata": {
        "id": "n_DmG217_z_J"
      },
      "outputs": [],
      "source": [
        "# 这一模块需要引入的库：\n",
        "import torch\n",
        "\n",
        "import csv\n",
        "import numpy as np \n",
        "from torch import tensor\n",
        "from torch.utils.data import Dataset,DataLoader\n",
        " \n",
        "class Covid19dataset(Dataset):\n",
        "    def __init__(self, path, mode='train'):\n",
        "        super().__init__()\n",
        "        self.mode = mode\n",
        " \n",
        "        # 读取数据\n",
        "        with open(path) as file:\n",
        "            data_csv = list(csv.reader(file))   # 将csv文件中获取的数据转换为列表类型\n",
        "            data = np.array(data_csv[1:])[:, 1:].astype(float)  # 获取文件中的【数值数据】\n",
        " \n",
        "        if mode == 'test':  # 由于训练集、验证集与测试集的数据有所不同（最后一列数据），在此分情况运行\n",
        "            data = data[:, 0:93]    # 测试集中，由于最后一行是得预测的数据，故只有93列\n",
        "            self.data = torch.FloatTensor(data)     # 将numpy类型数据转换为tensor类型\n",
        "        else:\n",
        "            target = data[:, -1]    # 训练集和验证集中用于对比结果的“目标”\n",
        "            data = data[:, 0:93]\n",
        "            train_index = []\n",
        "            dev_index = []\n",
        "            \n",
        "            #train 数据集有2700行 一行就是一个sample  shape第一维就是行\n",
        "            for i in range(data.shape[0]):     # 这个循环用于将covid.train.csv文件中的数据分为训练集和验证集\n",
        "                if i % 10 != 0:                # 取序号为整十数的样本作为验证集\n",
        "                    train_index.append(i)\n",
        "                else:\n",
        "                    dev_index.append(i)\n",
        "            \n",
        "            #储存训练集或者是验证集的下标（行数）\n",
        "            if mode == 'train':     # 训练集的数据\n",
        "                self.target = torch.FloatTensor(target[train_index])   #取出2700个taget中的train的部分 一维的\n",
        "                self.data = torch.FloatTensor(data[train_index, 0:93])  #二维数据，index行，0~93列\n",
        "            else:       # 测试集的数据\n",
        "                self.target = torch.FloatTensor(target[dev_index])\n",
        "                self.data = torch.FloatTensor(data[dev_index, 0:93])\n",
        " \n",
        "        # 此处是对数据进行标准化处理，可以将不同量纲的不同特征，变为同一个数量级，使得损失函数更加平滑\n",
        "        # 标准化的优点：①提升模型的精度   ②提升收敛速度\n",
        "        # 采用均值标准化（0-1标准化）： （第i维数据 - 第i维数据的平均值）/（第i维数据的标准差）\n",
        "        #  举例来说，财产，口罩数都对阳性有影响；标准化后可以比较不同的量纲\n",
        "        self.data[:, 40:] = (self.data[:, 40:] - self.data[:, 40:].mean(dim=0)) / self.data[:, 40:].std(dim=0)\n",
        "        #只处理data中所有行，后面的数据列 torch.mean(dim=0),表示跨行求平均  从上到下的平均\n",
        " \n",
        "        self.dim = self.data.shape[1]   # 获取数据的列数   shape第一维是行，第二维是列\n",
        " \n",
        "    def __getitem__(self, item):        # 【注】这是Dataset必须重写的类函数，意在按索引返回数据\n",
        "        if self.mode == 'train' or self.mode == 'dev':  # 训练集和验证集包含特征和目标数据\n",
        "            return self.data[item], self.target[item]  #返回长度1的taget  和 18*2+17 = 47 长度的数据\n",
        "        else:\n",
        "            return self.data[item]      # 测试集仅含有特征数据\n",
        " \n",
        "    def __len__(self):                  # 【注】返回数据的行数\n",
        "        return len(self.data)  #每一个数据是47长度的向量！！！\n",
        " \n",
        " \n",
        "def prep_dataloader(path, mode, batch_size, n_jobs=0):\n",
        "    dataset = Covid19dataset(path, mode)    # 定义一个Dataset类  路径和模式\n",
        "    dataloader = DataLoader(dataset, batch_size,\n",
        "                            shuffle=(mode == 'train'),  # 【是否打乱数据后再读取】\n",
        "                            drop_last=False,            # 【False表示不丢弃不能被batch_size整除的部分】\n",
        "                            num_workers=n_jobs,         # 【采用多少个进程读取数据】\n",
        "                            pin_memory=False)           # 【是否将数据载入CUDA的内存当中】\n",
        "    print(mode, 'data done!')\n",
        "    return dataloader\n",
        "\n"
      ]
    },
    {
      "cell_type": "markdown",
      "source": [
        "上面完成了数据的读取和加载；最终的结果是：\n",
        "在训练集中：len=2700（差不多）\n",
        "input（data）   长47的向量\n",
        "output（target） 长度1的数字\n"
      ],
      "metadata": {
        "id": "JonZndatVWYQ"
      }
    },
    {
      "cell_type": "markdown",
      "source": [
        "## ADD：补充随机种子  让别人可以复现"
      ],
      "metadata": {
        "id": "_NXncwk5pv_b"
      }
    },
    {
      "cell_type": "code",
      "source": [
        "myseed = 42069  # 作用是为了其他人复现的时候更接近作者的结果。\n",
        "np.random.seed(myseed)\n",
        "torch.manual_seed(myseed)"
      ],
      "metadata": {
        "colab": {
          "base_uri": "https://localhost:8080/"
        },
        "id": "8LoZIruXpvfN",
        "outputId": "459722eb-cc23-48c9-c44d-58bd82080b66"
      },
      "execution_count": 7,
      "outputs": [
        {
          "output_type": "execute_result",
          "data": {
            "text/plain": [
              "<torch._C.Generator at 0x7f77b6a22750>"
            ]
          },
          "metadata": {},
          "execution_count": 7
        }
      ]
    },
    {
      "cell_type": "markdown",
      "source": [
        "# **（2）模型的搭建**\n",
        "思路：\n",
        "\n",
        "①先编写好模型的结构\n",
        "\n",
        "②训练模型，同时每一个epoch结束后，用验证集计算模型的Loss，存储表现好的模型\n",
        "\n"
      ],
      "metadata": {
        "id": "uCh2irYvWV3E"
      }
    },
    {
      "cell_type": "code",
      "source": [
        "# 这一模块涉及到的库\n",
        "import os\n",
        "from torch import nn,optim\n",
        " \n",
        "# 这部分可以直接到pytorch的官方文档中查看对应类或函数的使用方法\n",
        "# 设置模型的结构\n",
        "#来啦来啦  经典部分  模型的搭建！！！！！\n",
        "class Mymodel(nn.Module):       \n",
        "    def __init__(self, input_dim):\n",
        "        super(Mymodel, self).__init__() #父类初始化\n",
        "        self.net = nn.Sequential(           # 设置好模型的结构，可在forward函数中直接按顺序运行\n",
        "            nn.Linear(input_dim, 100),  #就一个线性层和ReLU层  \n",
        "            nn.ReLU(),          #ReLU 最大化激活函数  保留max（0，value）\n",
        "            nn.Linear(100, 1)      #Linear（in,out） in_features由输入张量的形状决定，out_features则决定了输出张量的形状 \n",
        "        )\n",
        " \n",
        "        self.criterion = nn.MSELoss(reduction='mean')   # 计算Loss\n",
        "        #就是算均方差函数 参数表示 loss.mean()  标量形式的\n",
        " \n",
        "    def forward(self, x):\n",
        "        return self.net(x).squeeze(1)   #先训练net 然后压缩维度    # 对数据的维度进行压缩，方便预测值与实际值的对比\n",
        "    '''\n",
        "    在机器学习和深度学习中，通常算法的结果是可以表示向量的数组（即包含两对或以上的方括号形式[[]]），\n",
        "    如果直接利用这个数组进行画图可能显示界面为空（见后面的示例）。\n",
        "    我们可以利用squeeze（）函数将表示向量的数组转换为秩为1的数组，\n",
        "    这样利用matplotlib库函数画图时，就可以正常的显示结果了。\n",
        "    '''\n",
        "\n",
        "    def cal_loss(self, pred, target):\n",
        "        return self.criterion(pred, target)     # 计算Loss\n",
        "\n",
        " \n",
        "# 训练模型\n",
        "def train(model, train_data, dev_data):    \n",
        "    max_epoch = 3000    # 至多训练次数\n",
        "    epoch = 1\n",
        "    #优化器\n",
        "    optimizer = optim.SGD(model.parameters(), lr=0.001, momentum=0.9)   # 初始化梯度下降法  \n",
        "    train_loss = []     # 存储训练集的Loss\n",
        "    dev_loss = []       # 存储验证集的Loss\n",
        "    \n",
        "    min_mse = 1000\n",
        "    break_flag = 0\n",
        "    while epoch < max_epoch:#每一轮\n",
        "        model.train()               # 设置模式（参数传入一个模型）\n",
        "\n",
        "        #每个batch\n",
        "        for x, y in train_data:     # x，y 每次包含一个batch_size的样本；分别是data和taget\n",
        "            optimizer.zero_grad()   # 每次必须先将梯度清零\n",
        "\n",
        "            #output\n",
        "            pred = model(x)\n",
        "            loss = model.cal_loss(pred, y)  # 计算Loss \n",
        "            train_loss.append(loss.detach())  #所有的batch的loss的集合\n",
        "            loss.backward()         # 计算梯度 根据loss反向传播\n",
        "            optimizer.step()        # 模型的参数更新\n",
        "\n",
        "        #测完一轮之后 使用验证集模型\n",
        "        #如果是验证集，只需要输入模型和data\n",
        "        dev_mse = dev(model, dev_data) \n",
        "        if dev_mse < min_mse:       # 如果测试验证集的Loss比上一次小，则存储当前模型\n",
        "            min_mse = dev_mse      #更新最小loss\n",
        "            print('Saving model (epoch = {:4d}, loss = {:.4f})'\n",
        "                  .format(epoch + 1, min_mse))         \n",
        " \n",
        "            # 存储当前最好的模型，此处需要导入os库，创建相应的目录\n",
        "            torch.save(model.state_dict(), 'my_models/mymodel.pth')\n",
        " \n",
        "            break_flag = 0  #此轮训练有效\n",
        "        else:\n",
        "            break_flag += 1  #此轮训练没有效果\n",
        " \n",
        "        dev_loss.append(dev_mse.detach())\n",
        "\n",
        "\n",
        "        if break_flag > 200:    # 如果连续200个周期，Loss都没有下降，则结束训练；  或者 epoch>3000之后也会停下\n",
        "            break\n",
        " \n",
        "        epoch += 1\n",
        "    return train_loss, dev_loss  #返回训练很多个epoch之后的loss\n",
        " \n",
        "# 验证集模型\n",
        "def dev(model, dev_data):        \n",
        "    model.eval()            # 设置模式  预测模式\n",
        "    total_loss = []         #所有的（batch）的loss列表\n",
        " \n",
        "    for x, y in dev_data:       # 得到当前模型下验证集的Loss\n",
        "        pred = model(x)\n",
        "        dev_loss = model.cal_loss(pred, y)\n",
        "        total_loss.append(dev_loss)\n",
        " \n",
        "    return sum(total_loss) / len(total_loss)    # 取Loss的平均数"
      ],
      "metadata": {
        "id": "E-i7cU-jWdXV"
      },
      "execution_count": 8,
      "outputs": []
    },
    {
      "cell_type": "markdown",
      "source": [
        "# **（3）目标的预测**\n",
        "\n",
        "训练完成，开始使用测试集产生预测结果"
      ],
      "metadata": {
        "id": "DsMXJ0CopKh6"
      }
    },
    {
      "cell_type": "code",
      "source": [
        "# 用Loss最低的模型进行预测\n",
        "def test(model, test_data):        \n",
        "    model.eval()            # 设置模式\n",
        "    preds = []          #预测结果\n",
        "\n",
        "    for x in test_data:     # 计算获得【预测值】  取出前40+47列 预测最后一列\n",
        "        pred = model(x)\n",
        "        preds.append(pred.detach().cpu())    # detach会分离出一个新的tensor，这个tensor不能够求导\n",
        "    preds = torch.cat(preds, dim=0).numpy()   #把preds转成tensor形式\n",
        "    \n",
        "    return preds"
      ],
      "metadata": {
        "id": "yvxQiG2QpS8A"
      },
      "execution_count": 10,
      "outputs": []
    },
    {
      "cell_type": "markdown",
      "source": [
        "最终返回了一个tensor列表，储存了很多行的vector的output"
      ],
      "metadata": {
        "id": "hfgS-T1Nq2hc"
      }
    },
    {
      "cell_type": "markdown",
      "source": [
        "# **（4）结果存储与可视化**"
      ],
      "metadata": {
        "id": "7u7mjZsprCLg"
      }
    },
    {
      "cell_type": "code",
      "source": [
        "\n",
        "import matplotlib.pyplot as plt\n",
        "\n",
        "# 绘制学习曲线\n",
        "def plot_learning_curve(train_loss, dev_loss, title=''):\n",
        "\n",
        "    total_steps = len(train_loss)   #所有的batch的loss的集合\n",
        "\n",
        "\n",
        "    #下面就是画出train loss 和 dev loss的变化曲线\n",
        "    x_1 = range(total_steps)\n",
        "    x_2 = x_1[::len(train_loss) // len(dev_loss)]  \n",
        "\n",
        "    plt.figure(1, figsize=(6, 4))\n",
        "    plt.plot(x_1, train_loss, c='tab:red', label='train')  #plot（x,y,颜色，标签）\n",
        "    plt.plot(x_2, dev_loss, c='tab:cyan', label='dev')  #每个batch一个trainloss  每个epoch一个devloss\n",
        "\n",
        "    #设置一些标签参数\n",
        "    plt.ylim(0.0, 5.)       # 【设置y的上下限】\n",
        "    plt.xlabel('Training steps')\n",
        "    plt.ylabel('MSE loss')\n",
        "    plt.title('Learning curve of {}'.format(title))\n",
        "    plt.legend()        # 【放一个图例说明】\n",
        "    plt.show()\n",
        " \n",
        "# 绘制验证集的预测值与实际值  \n",
        "# 我们得到的function是一个线性函数，因此得到线性的结果 一条直线  然后和散点的真实值target比较\n",
        "def plot_pred(dv_set, model, device, lim=35., preds=None, targets=None):\n",
        "    \n",
        "    if preds is None or targets is None: \n",
        "        model.eval()\n",
        "        preds, targets = [], []\n",
        "        for x, y in dv_set:\n",
        "            x, y = x.to(device), y.to(device)  #使用GPU等设备读取数据\n",
        "            with torch.no_grad():   #表示不对梯度参数进行修改  只是测试\n",
        "                pred = model(x)\n",
        "                preds.append(pred.detach().cpu())  #把验证集预测结果和真实值都存起来\n",
        "                targets.append(y.detach().cpu())\n",
        "\n",
        "        preds = torch.cat(preds, dim=0).numpy()  #都转成tensor类型\n",
        "        targets = torch.cat(targets, dim=0).numpy()\n",
        "\n",
        "    plt.figure(2, figsize=(5, 5))\n",
        "    plt.scatter(targets, preds, c='r', alpha=0.5)\n",
        "    plt.plot([-0.2, lim], [-0.2, lim], c='b')\n",
        "    print(targets[-10:-1])\n",
        "    plt.xlim(-0.2, lim)\n",
        "    plt.ylim(-0.2, lim)\n",
        "    plt.xlabel('ground truth value')\n",
        "    plt.ylabel('predicted value')\n",
        "    plt.title('Ground Truth v.s. Prediction')  #验证集：真实值和预测值的差异\n",
        "    plt.show()\n",
        " \n",
        "# 保存测试集的预测结果\n",
        "def save_pred(preds, file):\n",
        "    print('Saving results to {}'.format(file))\n",
        "    with open(file, 'w') as fp:\n",
        "        writer = csv.writer(fp)\n",
        "        writer.writerow(['id', 'tested_positive'])  #写个标题行  然后按照 【序号： 值】 的形式写入csv文件中\n",
        "        for i, p in enumerate(preds):   # enumerate() 函数用于将一个可遍历的数据对象组合为一个索引序列，同时列出数据和数据下标\n",
        "            writer.writerow([i, p])"
      ],
      "metadata": {
        "id": "A3NvQCCTrLj9"
      },
      "execution_count": 12,
      "outputs": []
    },
    {
      "cell_type": "markdown",
      "source": [
        "# **（5）程序运行流程**\n",
        "\n",
        "记得路径是./"
      ],
      "metadata": {
        "id": "Ad9Ydf9GumGZ"
      }
    },
    {
      "cell_type": "code",
      "source": [
        "# 设置存储模型的目录\n",
        "os.makedirs('my_models', exist_ok=True)\n",
        "\n",
        "# 加载数据\n",
        "train_data = prep_dataloader('./covid.train.csv', 'train', batch_size=135)\n",
        "dev_data = prep_dataloader('./covid.train.csv', 'dev', batch_size=135)\n",
        "test_data = prep_dataloader('./covid.test.csv', 'test', batch_size=135)\n",
        " \n",
        "# 设置模型与训练\n",
        "mymodel = Mymodel(train_data.dataset.dim)\n",
        "train_loss, dev_loss = train(mymodel, train_data, dev_data)\n",
        "plot_learning_curve(train_loss, dev_loss, title='deep model')  #绘制loss函数\n",
        "del mymodel\n",
        " \n",
        "# 加载最好的模型进行预测\n",
        "model = Mymodel(train_data.dataset.dim)\n",
        "ckpt = torch.load('my_models/mymodel.pth', map_location='cpu')  # 加载最好的模型 之前已经根据验证集弄出了dev_loss最小的模型\n",
        "model.load_state_dict(ckpt)\n",
        "plot_pred(dev_data, model, 'cpu')   #绘制最好的模型  在验证集上的表现 和真实值的差别\n",
        "\n",
        "preds = test(model, test_data)\n",
        " \n",
        "# 储存预测结果\n",
        "save_pred(preds, 'mypred.csv')\n",
        "print('All Done!')"
      ],
      "metadata": {
        "colab": {
          "base_uri": "https://localhost:8080/",
          "height": 1000
        },
        "id": "iCXj1MABvFI4",
        "outputId": "8a1d4d78-5ee6-4ceb-c6ed-0deab656fa97"
      },
      "execution_count": 16,
      "outputs": [
        {
          "output_type": "stream",
          "name": "stdout",
          "text": [
            "train data done!\n",
            "dev data done!\n",
            "test data done!\n",
            "Saving model (epoch =    2, loss = 42.0362)\n",
            "Saving model (epoch =    3, loss = 14.5182)\n",
            "Saving model (epoch =    4, loss = 6.8052)\n",
            "Saving model (epoch =    5, loss = 4.6717)\n",
            "Saving model (epoch =    6, loss = 3.5652)\n",
            "Saving model (epoch =    7, loss = 3.0226)\n",
            "Saving model (epoch =    8, loss = 2.5550)\n",
            "Saving model (epoch =    9, loss = 2.2880)\n",
            "Saving model (epoch =   10, loss = 2.0707)\n",
            "Saving model (epoch =   11, loss = 1.9502)\n",
            "Saving model (epoch =   12, loss = 1.7965)\n",
            "Saving model (epoch =   13, loss = 1.6821)\n",
            "Saving model (epoch =   14, loss = 1.5682)\n",
            "Saving model (epoch =   15, loss = 1.5363)\n",
            "Saving model (epoch =   16, loss = 1.4810)\n",
            "Saving model (epoch =   17, loss = 1.3769)\n",
            "Saving model (epoch =   18, loss = 1.3081)\n",
            "Saving model (epoch =   21, loss = 1.3014)\n",
            "Saving model (epoch =   22, loss = 1.2003)\n",
            "Saving model (epoch =   23, loss = 1.1989)\n",
            "Saving model (epoch =   24, loss = 1.1448)\n",
            "Saving model (epoch =   25, loss = 1.1310)\n",
            "Saving model (epoch =   26, loss = 1.1089)\n",
            "Saving model (epoch =   28, loss = 1.0999)\n",
            "Saving model (epoch =   29, loss = 1.0550)\n",
            "Saving model (epoch =   32, loss = 1.0243)\n",
            "Saving model (epoch =   37, loss = 0.9890)\n",
            "Saving model (epoch =   39, loss = 0.9752)\n",
            "Saving model (epoch =   40, loss = 0.9742)\n",
            "Saving model (epoch =   41, loss = 0.9727)\n",
            "Saving model (epoch =   42, loss = 0.9407)\n",
            "Saving model (epoch =   46, loss = 0.9343)\n",
            "Saving model (epoch =   50, loss = 0.9227)\n",
            "Saving model (epoch =   51, loss = 0.8976)\n",
            "Saving model (epoch =   52, loss = 0.8952)\n",
            "Saving model (epoch =   61, loss = 0.8649)\n",
            "Saving model (epoch =   64, loss = 0.8612)\n",
            "Saving model (epoch =   67, loss = 0.8487)\n",
            "Saving model (epoch =   68, loss = 0.8472)\n",
            "Saving model (epoch =   74, loss = 0.8412)\n",
            "Saving model (epoch =   75, loss = 0.8287)\n",
            "Saving model (epoch =   83, loss = 0.8161)\n",
            "Saving model (epoch =   98, loss = 0.8100)\n",
            "Saving model (epoch =  113, loss = 0.8087)\n",
            "Saving model (epoch =  114, loss = 0.7931)\n",
            "Saving model (epoch =  129, loss = 0.7924)\n",
            "Saving model (epoch =  136, loss = 0.7883)\n",
            "Saving model (epoch =  162, loss = 0.7819)\n",
            "Saving model (epoch =  165, loss = 0.7795)\n",
            "Saving model (epoch =  168, loss = 0.7772)\n",
            "Saving model (epoch =  169, loss = 0.7702)\n",
            "Saving model (epoch =  182, loss = 0.7699)\n",
            "Saving model (epoch =  249, loss = 0.7696)\n",
            "Saving model (epoch =  259, loss = 0.7644)\n",
            "Saving model (epoch =  272, loss = 0.7632)\n",
            "Saving model (epoch =  309, loss = 0.7591)\n",
            "Saving model (epoch =  419, loss = 0.7570)\n",
            "Saving model (epoch =  556, loss = 0.7442)\n"
          ]
        },
        {
          "output_type": "display_data",
          "data": {
            "text/plain": [
              "<Figure size 432x288 with 1 Axes>"
            ],
            "image/png": "[encoded data removed]"
          },
          "metadata": {
            "needs_background": "light"
          }
        },
        {
          "output_type": "display_data",
          "data": {
            "text/plain": [
              "<Figure size 360x360 with 1 Axes>"
            ],
            "image/png": "[encoded data removed]"
          },
          "metadata": {
            "needs_background": "light"
          }
        },
        {
          "output_type": "stream",
          "name": "stdout",
          "text": [
            "Saving results to mypred.csv\n",
            "All Done!\n"
          ]
        }
      ]
    },
    {
      "cell_type": "markdown",
      "source": [
        "# **全代码**   只要运行这个就行"
      ],
      "metadata": {
        "id": "2xr2NOey02z9"
      }
    },
    {
      "cell_type": "code",
      "source": [
        "import torch\n",
        "from torch import nn,optim\n",
        "from torch.utils.data import DataLoader,Dataset\n",
        " \n",
        "import csv\n",
        "import numpy as np\n",
        "import os\n",
        "import matplotlib.pyplot as plt\n",
        " \n",
        "myseed = 42069  # 作用是为了其他人复现的时候更接近作者的结果\n",
        "np.random.seed(myseed)\n",
        "torch.manual_seed(myseed)\n",
        " \n",
        " \n",
        "# 数据类的处理\n",
        "class Covid19dataset(Dataset):\n",
        "    def __init__(self, path, mode='train'):\n",
        "        super().__init__()\n",
        "        self.mode = mode\n",
        " \n",
        "        # 读取数据\n",
        "        with open(path) as file:\n",
        "            data_csv = list(csv.reader(file))   # 将csv文件中获取的数据转换为列表类型\n",
        "            data = np.array(data_csv[1:])[:, 1:].astype(float)  # 获取文件中的【数值数据】\n",
        " \n",
        "        if mode == 'test':  # 由于训练集、验证集与测试集的数据有所不同（最后一列数据），在此分情况运行\n",
        "            data = data[:, 0:93]    # 测试集中，由于最后一行是得预测的数据，故只有93列\n",
        "            self.data = torch.FloatTensor(data)     # 将numpy类型数据转换为tensor类型\n",
        "        else:\n",
        "            target = data[:, -1]    # 训练集和验证集中用于对比结果的“目标”\n",
        "            data = data[:, 0:93]\n",
        "            train_index = []\n",
        "            dev_index = []\n",
        "            for i in range(data.shape[0]):     # 这个循环用于将covid.train.csv文件中的数据分为训练集和验证集\n",
        "                if i % 10 != 0:                # 取序号为整十数的样本作为验证集\n",
        "                    train_index.append(i)\n",
        "                else:\n",
        "                    dev_index.append(i)\n",
        "            if mode == 'train':     # 训练集的数据\n",
        "                self.target = torch.FloatTensor(target[train_index])\n",
        "                self.data = torch.FloatTensor(data[train_index, 0:93])\n",
        "            else:       # 测试集的数据\n",
        "                self.target = torch.FloatTensor(target[dev_index])\n",
        "                self.data = torch.FloatTensor(data[dev_index, 0:93])\n",
        " \n",
        "        # 此处是对数据进行标准化处理，可以将不同量纲的不同特征，变为同一个数量级，使得损失函数更加平滑\n",
        "        # 标准化的优点：①提升模型的精度   ②提升收敛速度\n",
        "        # 采用均值标准化： （第i维数据 - 第i维数据的平均值）/（第i维数据的标准差）\n",
        "        self.data[:, 40:] = (self.data[:, 40:] - self.data[:, 40:].mean(dim=0)) / self.data[:, 40:].std(dim=0)\n",
        " \n",
        "        self.dim = self.data.shape[1]   # 获取数据的列数\n",
        " \n",
        "    def __getitem__(self, item):        # 【注】这是Dataset必须重写的类函数，意在按索引返回数据\n",
        "        if self.mode == 'train' or self.mode == 'dev':  # 训练集和验证集包含特征和目标数据\n",
        "            return self.data[item], self.target[item]\n",
        "        else:\n",
        "            return self.data[item]      # 测试集仅含有特征数据\n",
        " \n",
        "    def __len__(self):                  # 【注】返回数据的行数\n",
        "        return len(self.data)\n",
        " \n",
        " \n",
        "def prep_dataloader(path, mode, batch_size, n_jobs=0):\n",
        "    dataset = Covid19dataset(path, mode)    # 定义一个Dataset类\n",
        "    dataloader = DataLoader(dataset, batch_size,\n",
        "                            shuffle=(mode == 'train'),  # 【是否打乱数据后再读取】\n",
        "                            drop_last=False,            # 【False表示不丢弃不能被batch_size整除的部分】\n",
        "                            num_workers=n_jobs,         # 【采用多少个进程读取数据】\n",
        "                            pin_memory=False)           # 【是否将数据载入CUDA的内存当中】\n",
        "    print(mode, 'data done!')\n",
        "    return dataloader\n",
        " \n",
        " \n",
        "# 这部分可以直接到pytorch的官方文档中查看对应类或函数的使用方法\n",
        "class Mymodel(nn.Module):\n",
        "    def __init__(self, input_dim):\n",
        "        super(Mymodel, self).__init__()\n",
        "        self.net = nn.Sequential(           # 设置好模型的结构，可在forward函数中直接按顺序运行\n",
        "            nn.Linear(input_dim, 100),\n",
        "            nn.ReLU(),\n",
        "            nn.Linear(100, 1)\n",
        "        )\n",
        " \n",
        "        self.criterion = nn.MSELoss(reduction='mean')   # 计算Loss\n",
        " \n",
        "    def forward(self, x):\n",
        "        return self.net(x).squeeze(1)       # 对数据的维度进行压缩，方便预测值与实际值的对比\n",
        " \n",
        "    def cal_loss(self, pred, target):\n",
        "        return self.criterion(pred, target)     # 计算Loss\n",
        " \n",
        " \n",
        "def train(model, train_data, dev_data):\n",
        "    max_epoch = 3000    # 至多训练次数\n",
        "    epoch = 1\n",
        "    optimizer = optim.SGD(model.parameters(), lr=0.001, momentum=0.9)   # 初始化梯度下降法\n",
        "    train_loss = []     # 存储训练集的Loss\n",
        "    dev_loss = []       # 存储测试集的Loss\n",
        "    min_mse = 1000\n",
        "    break_flag = 0\n",
        "    while epoch < max_epoch:\n",
        "        model.train()               # 设置模式\n",
        "        for x, y in train_data:     # x，y 每次包含一个batch_size的样本\n",
        "            optimizer.zero_grad()   # 每次必须先将梯度清零\n",
        "            pred = model(x)\n",
        "            loss = model.cal_loss(pred, y)  # 计算Loss\n",
        "            train_loss.append(loss.detach())\n",
        "            loss.backward()         # 计算梯度\n",
        "            optimizer.step()        # 模型的参数更新\n",
        " \n",
        "        dev_mse = dev(model, dev_data)\n",
        "        if dev_mse < min_mse:       # 如果测试验证集的Loss比上一次小，则存储当前模型\n",
        "            min_mse = dev_mse\n",
        "            print('Saving model (epoch = {:4d}, loss = {:.4f})'\n",
        "                  .format(epoch + 1, min_mse))\n",
        " \n",
        "            # 存储当前最好的模型，此处需要导入os库，创建相应的目录\n",
        "            torch.save(model.state_dict(), 'my_models/mymodel.pth')\n",
        " \n",
        "            break_flag = 0\n",
        "        else:\n",
        "            break_flag += 1\n",
        " \n",
        "        dev_loss.append(dev_mse.detach())\n",
        " \n",
        "        if break_flag > 200:    # 如果连续200个周期，Loss都没有下降，则结束训练\n",
        "            break\n",
        " \n",
        "        epoch += 1\n",
        "    return train_loss, dev_loss\n",
        " \n",
        " \n",
        "def dev(model, dev_data):\n",
        "    model.eval()            # 设置模式\n",
        "    total_loss = []\n",
        " \n",
        "    for x, y in dev_data:       # 得到当前模型下验证集的Loss\n",
        "        pred = model(x)\n",
        "        dev_loss = model.cal_loss(pred, y)\n",
        "        total_loss.append(dev_loss)\n",
        " \n",
        "    return sum(total_loss) / len(total_loss)    # 取Loss的平均数\n",
        " \n",
        " \n",
        "def test(model, test_data):\n",
        "    model.eval()            # 设置模式\n",
        "    preds = []\n",
        "    for x in test_data:     # 计算获得【预测值】\n",
        "        pred = model(x)\n",
        "        preds.append(pred.detach().cpu())   \n",
        "    preds = torch.cat(preds, dim=0).numpy()\n",
        "    return preds\n",
        " \n",
        " \n",
        "def plot_learning_curve(train_loss, dev_loss, title=''):\n",
        "    total_steps = len(train_loss)\n",
        "    x_1 = range(total_steps)\n",
        "    x_2 = x_1[::len(train_loss) // len(dev_loss)]\n",
        "    plt.figure(1, figsize=(6, 4))\n",
        "    plt.plot(x_1, train_loss, c='tab:red', label='train')\n",
        "    plt.plot(x_2, dev_loss, c='tab:cyan', label='dev')\n",
        "    plt.ylim(0.0, 5.)       \n",
        "    plt.xlabel('Training steps')\n",
        "    plt.ylabel('MSE loss')\n",
        "    plt.title('Learning curve of {}'.format(title))\n",
        "    plt.legend()      \n",
        "    plt.show()\n",
        " \n",
        " \n",
        "def plot_pred(dv_set, model, device, lim=35., preds=None, targets=None):\n",
        "    if preds is None or targets is None:\n",
        "        model.eval()\n",
        "        preds, targets = [], []\n",
        "        for x, y in dv_set:\n",
        "            x, y = x.to(device), y.to(device)\n",
        "            with torch.no_grad():\n",
        "                pred = model(x)\n",
        "                preds.append(pred.detach().cpu())\n",
        "                targets.append(y.detach().cpu())\n",
        "        preds = torch.cat(preds, dim=0).numpy()\n",
        "        targets = torch.cat(targets, dim=0).numpy()\n",
        "    plt.figure(2, figsize=(5, 5))\n",
        "    plt.scatter(targets, preds, c='r', alpha=0.5)\n",
        "    plt.plot([-0.2, lim], [-0.2, lim], c='b')\n",
        "    plt.xlim(-0.2, lim)\n",
        "    plt.ylim(-0.2, lim)\n",
        "    plt.xlabel('ground truth value')\n",
        "    plt.ylabel('predicted value')\n",
        "    plt.title('Ground Truth v.s. Prediction')\n",
        "    plt.show()\n",
        " \n",
        " \n",
        "def save_pred(preds, file):\n",
        "    print('Saving results to {}'.format(file))\n",
        "    with open(file, 'w') as fp:\n",
        "        writer = csv.writer(fp)\n",
        "        writer.writerow(['id', 'tested_positive'])\n",
        "        for i, p in enumerate(preds):   # enumerate() 函数用于将一个可遍历的数据对象组合为一个索引序列，同时列出数据和数据下标\n",
        "            writer.writerow([i, p])\n",
        " \n",
        "# 设置存储模型的目录\n",
        "os.makedirs('my_models', exist_ok=True)\n",
        " \n",
        "# 加载数据\n",
        "train_data = prep_dataloader('covid.train.csv', 'train', batch_size=135)\n",
        "dev_data = prep_dataloader('covid.train.csv', 'dev', batch_size=135)\n",
        "test_data = prep_dataloader('covid.test.csv', 'test', batch_size=135)\n",
        " \n",
        "# 设置模型与训练\n",
        "mymodel = Mymodel(train_data.dataset.dim)\n",
        "train_loss, dev_loss = train(mymodel, train_data, dev_data)\n",
        "plot_learning_curve(train_loss, dev_loss, title='deep model')\n",
        "del mymodel\n",
        " \n",
        "# 加载最好的模型进行预测\n",
        "model = Mymodel(train_data.dataset.dim)\n",
        "ckpt = torch.load('my_models/mymodel.pth', map_location='cpu')  # 加载最好的模型\n",
        "model.load_state_dict(ckpt)\n",
        "plot_pred(dev_data, model, 'cpu')\n",
        "preds = test(model, test_data)\n",
        " \n",
        "# 储存预测结果\n",
        "save_pred(preds, 'mypred.csv')\n",
        "print('All Done!')"
      ],
      "metadata": {
        "colab": {
          "base_uri": "https://localhost:8080/",
          "height": 1000
        },
        "id": "HX6SClcV09g5",
        "outputId": "e38b29d9-42a1-414b-800e-f127ca262df0"
      },
      "execution_count": 15,
      "outputs": [
        {
          "output_type": "stream",
          "name": "stdout",
          "text": [
            "train data done!\n",
            "dev data done!\n",
            "test data done!\n",
            "Saving model (epoch =    2, loss = 51.0681)\n",
            "Saving model (epoch =    3, loss = 12.6505)\n",
            "Saving model (epoch =    4, loss = 5.6752)\n",
            "Saving model (epoch =    5, loss = 4.0360)\n",
            "Saving model (epoch =    6, loss = 3.3920)\n",
            "Saving model (epoch =    7, loss = 2.8617)\n",
            "Saving model (epoch =    8, loss = 2.4789)\n",
            "Saving model (epoch =    9, loss = 2.2375)\n",
            "Saving model (epoch =   10, loss = 2.0216)\n",
            "Saving model (epoch =   11, loss = 1.8489)\n",
            "Saving model (epoch =   12, loss = 1.7353)\n",
            "Saving model (epoch =   13, loss = 1.5770)\n",
            "Saving model (epoch =   14, loss = 1.5064)\n",
            "Saving model (epoch =   15, loss = 1.4060)\n",
            "Saving model (epoch =   16, loss = 1.3681)\n",
            "Saving model (epoch =   17, loss = 1.3126)\n",
            "Saving model (epoch =   18, loss = 1.2665)\n",
            "Saving model (epoch =   19, loss = 1.2314)\n",
            "Saving model (epoch =   20, loss = 1.1806)\n",
            "Saving model (epoch =   22, loss = 1.1721)\n",
            "Saving model (epoch =   26, loss = 1.1052)\n",
            "Saving model (epoch =   27, loss = 1.0713)\n",
            "Saving model (epoch =   30, loss = 1.0334)\n",
            "Saving model (epoch =   31, loss = 1.0146)\n",
            "Saving model (epoch =   34, loss = 1.0106)\n",
            "Saving model (epoch =   37, loss = 1.0025)\n",
            "Saving model (epoch =   38, loss = 0.9877)\n",
            "Saving model (epoch =   40, loss = 0.9654)\n",
            "Saving model (epoch =   42, loss = 0.9639)\n",
            "Saving model (epoch =   45, loss = 0.9574)\n",
            "Saving model (epoch =   47, loss = 0.9543)\n",
            "Saving model (epoch =   48, loss = 0.9490)\n",
            "Saving model (epoch =   49, loss = 0.9289)\n",
            "Saving model (epoch =   54, loss = 0.8931)\n",
            "Saving model (epoch =   57, loss = 0.8861)\n",
            "Saving model (epoch =   65, loss = 0.8725)\n",
            "Saving model (epoch =   66, loss = 0.8588)\n",
            "Saving model (epoch =   75, loss = 0.8433)\n",
            "Saving model (epoch =   80, loss = 0.8300)\n",
            "Saving model (epoch =  113, loss = 0.8219)\n",
            "Saving model (epoch =  122, loss = 0.8070)\n",
            "Saving model (epoch =  138, loss = 0.8070)\n",
            "Saving model (epoch =  151, loss = 0.7907)\n",
            "Saving model (epoch =  173, loss = 0.7876)\n",
            "Saving model (epoch =  199, loss = 0.7800)\n",
            "Saving model (epoch =  262, loss = 0.7794)\n",
            "Saving model (epoch =  269, loss = 0.7759)\n",
            "Saving model (epoch =  303, loss = 0.7707)\n",
            "Saving model (epoch =  330, loss = 0.7665)\n",
            "Saving model (epoch =  340, loss = 0.7639)\n",
            "Saving model (epoch =  381, loss = 0.7625)\n",
            "Saving model (epoch =  386, loss = 0.7600)\n",
            "Saving model (epoch =  403, loss = 0.7566)\n",
            "Saving model (epoch =  407, loss = 0.7483)\n",
            "Saving model (epoch =  419, loss = 0.7471)\n",
            "Saving model (epoch =  427, loss = 0.7415)\n",
            "Saving model (epoch =  446, loss = 0.7338)\n",
            "Saving model (epoch =  465, loss = 0.7314)\n",
            "Saving model (epoch =  468, loss = 0.7269)\n",
            "Saving model (epoch =  480, loss = 0.7252)\n",
            "Saving model (epoch =  508, loss = 0.7219)\n",
            "Saving model (epoch =  541, loss = 0.7198)\n",
            "Saving model (epoch =  572, loss = 0.7106)\n",
            "Saving model (epoch =  615, loss = 0.6986)\n",
            "Saving model (epoch =  657, loss = 0.6954)\n",
            "Saving model (epoch =  684, loss = 0.6907)\n",
            "Saving model (epoch =  796, loss = 0.6879)\n",
            "Saving model (epoch =  801, loss = 0.6851)\n",
            "Saving model (epoch =  847, loss = 0.6795)\n",
            "Saving model (epoch =  893, loss = 0.6776)\n",
            "Saving model (epoch =  902, loss = 0.6768)\n",
            "Saving model (epoch =  912, loss = 0.6722)\n",
            "Saving model (epoch =  975, loss = 0.6689)\n",
            "Saving model (epoch = 1024, loss = 0.6680)\n",
            "Saving model (epoch = 1137, loss = 0.6601)\n"
          ]
        },
        {
          "output_type": "display_data",
          "data": {
            "text/plain": [
              "<Figure size 432x288 with 1 Axes>"
            ],
            "image/png": "[encoded data removed]"
          },
          "metadata": {
            "needs_background": "light"
          }
        },
        {
          "output_type": "display_data",
          "data": {
            "text/plain": [
              "<Figure size 360x360 with 1 Axes>"
            ],
            "image/png": "[encoded data removed]"
          },
          "metadata": {
            "needs_background": "light"
          }
        },
        {
          "output_type": "stream",
          "name": "stdout",
          "text": [
            "Saving results to mypred.csv\n",
            "All Done!\n"
          ]
        }
      ]
    }
  ]
}